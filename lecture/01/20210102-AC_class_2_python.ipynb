{
 "cells": [
  {
   "cell_type": "markdown",
   "metadata": {},
   "source": [
    "# 1. 변수와 연산자\n",
    "\n",
    "## 변수\n",
    "\n",
    "### 필요한 연산 값의 저장\n",
    "\n",
    "![compute](img/compute.png)\n",
    "\n",
    "Computer란, 계산하는 기계이다. 그 계산의 결과가 지금 우리가 하고있는 Zoom, 게임, 혹은 카카오톡인 것이다. 그렇다면, 이렇게 연산을 하면서 그 값이 **다음 연산에 필요한 경우에 따로 저장해서 사용**하는 것이 더 효율적이다."
   ]
  },
  {
   "cell_type": "code",
   "execution_count": 1,
   "metadata": {},
   "outputs": [],
   "source": [
    "num = 10\n",
    "statement = '유혁준 바보'"
   ]
  },
  {
   "cell_type": "markdown",
   "metadata": {},
   "source": [
    "위와 같은 코드를 실행하면 컴퓨터는 **10이라는 값을 num이라는 변수에 저장한다**라고 한다.\n",
    "\n",
    "![Variable2](img/variable.png)\n",
    "\n",
    "메모리에 공간을 지정하여 그 공간의 이름을 num이라고 선언. 10이라는 값을 저장하는 것.\n",
    "\n",
    "### 변수의 이름 지정\n",
    "\n",
    "변수 이름은 **꼭 의미가 있어야 한다.** 항상 '시간이 지난 뒤에 내 코드를 봤을 때 변수의 의미를 다 기억할 수 있는가', 혹은 '다른 사람이 봤을 때 가독성이 좋은가?'를 생각해야 한다.\n",
    "\n",
    "그러면 변수의 이름이 길어질 것 같은데, 그럼 예를 들어 학생의 이름은 studentname으로 써야하는가? 띄어쓰기를 어떻게 표현하지?"
   ]
  },
  {
   "cell_type": "code",
   "execution_count": 2,
   "metadata": {},
   "outputs": [],
   "source": [
    "camelCase    = '맨 앞글자 소문자, 띄어쓰기 후 첫 글자 대문자'\n",
    "pothole_case = '띄어쓰기를 언더바로 표현'\n",
    "PascalCase   = '맨 앞글자 대문자, 띄어쓰기 후 첫 글자 대문자'"
   ]
  },
  {
   "cell_type": "markdown",
   "metadata": {},
   "source": [
    "무엇을 쓰든 상관은 없으나 코드 처음부터 끝까지 하나의 방법만을 쓰는 것이 국룰\n",
    "\n",
    "### 변수의 종류\n",
    "\n",
    "1. 정수형 숫자\n",
    "2. 실수형 숫자\n",
    "3. 문자열\n",
    "4. Bool : True, False을 표현하는 자료형. \n",
    "5. List : 여러 자료형의 묶음\n",
    "6. Dictionary : Key와 Value가 있는 묶음\n",
    "7. Tuple : 생성 이후 수정이 불가능한 묶음\n",
    "8. Set : 집합을 표현한 자료형\n",
    "\n",
    "이 중에서, 묶음들은 앞으로 프로그래밍에 아주 많이 사용할 예정. 모든 메소드를 외울 필요는 없지만, 추가, 삭제, 접근하는 방법 정도는 외우고 있어야 한다.\n",
    "\n",
    "#### List와 Dictionary의 차이\n",
    "\n",
    "Dictionary는 앞으로 굉장히 많이 사용하게 될 자료형. 어떻게 보면 어떤 값을 쉽게 저장할 수 있다는 것에서 List와 같은 성격을 가지고 있다.\n",
    "하지만, 둘의 차이점으로는 다음 코드를 보면 이해하기 쉽다."
   ]
  },
  {
   "cell_type": "code",
   "execution_count": 1,
   "metadata": {},
   "outputs": [
    {
     "name": "stdout",
     "output_type": "stream",
     "text": [
      "Computer\n",
      "Computer\n"
     ]
    }
   ],
   "source": [
    "student_info_with_list = ['Kang Hyung Goo', 29, 'korea Univ', 'Computer']\n",
    "student_info_with_dict = {'Name' : 'Kang Hyung Goo', 'Age' : 29, 'School' : 'Korea Univ', 'Major' : 'Computer'}\n",
    "\n",
    "print(student_info_with_list[3])\n",
    "print(student_info_with_dict['Major'])"
   ]
  },
  {
   "cell_type": "markdown",
   "metadata": {},
   "source": [
    "**데이터의 순서가 중요한 경우 List**를 사용하고, **데이터의 특정 속성 값이 필요할 경우 Dictionary**를 사용한다.\n",
    "\n",
    "### 연산자\n",
    "\n",
    "#### 연산자의 종류\n",
    "\n",
    "* 대입 연산자 : =\n",
    "* 산술 연산자 : + - * / // %\n",
    "* 비교 연산자 : < > = <= >= == !=\n",
    "* 논리 연산자 : || &&\n",
    "\n",
    "#### 나눗셈의 활용\n",
    "\n",
    "1. A % B의 값이 0이라는 뜻은, A가 B로 나누어 떨어진다는 뜻이며 B가 A의 약수라는 뜻이다.\n",
    "2. A % 2의 경우, 값이 0일 경우 짝수, 1일 경우 홀수라고 판단할 수 있다.\n",
    "3. A // 10의 결과값은, A를 10개를 묶음으로 했을 때의 묶음 수라고 생각할 수 있다."
   ]
  },
  {
   "cell_type": "code",
   "execution_count": 19,
   "metadata": {},
   "outputs": [
    {
     "name": "stdout",
     "output_type": "stream",
     "text": [
      "input number : 69\n",
      "\n",
      "나눗셈의 활용 #1\n",
      "3 * 23 = 69\n",
      "23 * 3 = 69\n",
      "\n",
      "나눗셈의 활용 #2\n",
      "69 is odd number\n",
      "\n",
      "나눗셈의 활용 #3\n",
      "0\n",
      "1\n",
      "2\n",
      "3\n",
      "4\n",
      "5\n"
     ]
    }
   ],
   "source": [
    "number = int(input(\"input number : \"))\n",
    "\n",
    "print('\\n나눗셈의 활용 #1')\n",
    "for num in range(2, number):\n",
    "    if number % num == 0:\n",
    "        # number가 num로 나누어 떨어진다.\n",
    "        share = number // num\n",
    "        print('{0} * {1} = {2}'.format(num, share, number))\n",
    "        \n",
    "print('\\n나눗셈의 활용 #2')\n",
    "if number % 2 == 0:\n",
    "    # number가 2로 나누어 떨어진다. 즉, 짝수이다.\n",
    "    print(number, 'is even number')\n",
    "else:\n",
    "    # number 2로 나누어 떨어지지 않는다. 즉, 홀수이다.\n",
    "    print(number, 'is odd number')\n",
    "    \n",
    "print('\\n나눗셈의 활용 #3')\n",
    "share = number // 10\n",
    "for cnt in range(share):\n",
    "    print(cnt)"
   ]
  },
  {
   "cell_type": "markdown",
   "metadata": {},
   "source": [
    "# 2. 조건문\n",
    "\n",
    "## 조건문의 사용 의의\n",
    "\n",
    "![flowchart](img/if.png)\n",
    "\n",
    "컴퓨터가 항상 같은 동작을 하는 것이 아닌, **특별한 조건에서는 다른 동작을** 할 수 있도록 행동의 분기점을 만드는 것. "
   ]
  },
  {
   "cell_type": "code",
   "execution_count": 20,
   "metadata": {},
   "outputs": [
    {
     "name": "stdout",
     "output_type": "stream",
     "text": [
      "안녕히 주무세요.\n"
     ]
    }
   ],
   "source": [
    "do_my_homework = False # False는 0, True는 0을 제외한 모든 값\n",
    "\n",
    "if do_my_homework is True: # if do_my_homework: 도 가능\n",
    "    print('오늘을 불태운다.')\n",
    "else:\n",
    "    print('안녕히 주무세요.')"
   ]
  },
  {
   "cell_type": "markdown",
   "metadata": {},
   "source": [
    "## 조건문에 관하여\n",
    "\n",
    "연산자 중에서 논리 연산자를 활용하면 if문에서 **한번에 여러 조건을 체크**할 수 있다. 이는 이중 if문을 활용하면 같은 효과가 있는데, 어떤 것을 활용하여야 하는지는 답이 없지만 **가독성이 좋다면 그게 정답**이라고 할 수 있다."
   ]
  },
  {
   "cell_type": "code",
   "execution_count": 23,
   "metadata": {},
   "outputs": [
    {
     "name": "stdout",
     "output_type": "stream",
     "text": [
      "input number :30\n",
      "6 * 5 = 30\n",
      "6 * 5 = 30\n"
     ]
    }
   ],
   "source": [
    "number = int(input('input number :'))\n",
    "\n",
    "if number % 2 == 0 and number % 3 == 0:\n",
    "    share = number // 6\n",
    "    print('{0} * {1} = {2}'.format(6, share, number))\n",
    "    \n",
    "if number % 2 == 0:\n",
    "    if number % 3 == 0:\n",
    "        print('{0} * {1} = {2}'.format(6, share, number))"
   ]
  },
  {
   "cell_type": "markdown",
   "metadata": {},
   "source": [
    "# 3. 반복문"
   ]
  },
  {
   "cell_type": "markdown",
   "metadata": {},
   "source": [
    "## 반복문이란\n",
    "\n",
    "반복문은 같은 동작을 반복할 때에 사용하는 것으로, 반복문을 사용함으로써 우리의 코드는 **가독성**이 좋아지고, **코드의 수정이 용이**하다는 장점이 생긴다. 반복문을 사용하지 않은 경우와 사용한 경우의 코드르 비교하여 보자."
   ]
  },
  {
   "cell_type": "code",
   "execution_count": 49,
   "metadata": {},
   "outputs": [
    {
     "name": "stdout",
     "output_type": "stream",
     "text": [
      "number01 is 10\n",
      "number02 is 10\n"
     ]
    }
   ],
   "source": [
    "# 반복문을 사용하지 않는 경우\n",
    "number01 = 0\n",
    "number01 += 1\n",
    "number01 += 1\n",
    "number01 += 1\n",
    "number01 += 1\n",
    "number01 += 1\n",
    "number01 += 1\n",
    "number01 += 1\n",
    "number01 += 1\n",
    "number01 += 1\n",
    "number01 += 1\n",
    "print('number01 is', number01)\n",
    "\n",
    "# 반복문을 사용한 경우\n",
    "number02 = 0\n",
    "for _ in range(10):\n",
    "    number02 += 1\n",
    "print('number02 is', number02)"
   ]
  },
  {
   "cell_type": "markdown",
   "metadata": {},
   "source": [
    "만약 반복이 1000번이라면, 반복문을 사용하지 않을 때에 복붙된 1000줄의 코드가 있을 테고, 만약에 알고리즘 상 +1이 아니라 +2로 바꿔야한다면 1000줄의 모든 숫자를 바꿔야한다."
   ]
  },
  {
   "cell_type": "markdown",
   "metadata": {},
   "source": [
    "## for와 while의 차이\n",
    "\n",
    "반복문을 표현하는 문법으로는 for문과 while문이 있다. for문을 활용한 코드를 while문으로 바꿀 수 있으며 반대도 가능하다.  \n",
    "그렇다면 둘의 차이점은 무엇이고 언제 for문을, 언제 while문을 사용해야 하는가."
   ]
  },
  {
   "cell_type": "code",
   "execution_count": 47,
   "metadata": {},
   "outputs": [
    {
     "name": "stdout",
     "output_type": "stream",
     "text": [
      "for문, while문으로 같은 결과 표현 가능\n",
      "* for문으로 반복문 구현\n",
      "=> 0 1 2 \n",
      "* while문으로 반복문 구현\n",
      "=> 0 1 2 "
     ]
    }
   ],
   "source": [
    "print('for문, while문으로 같은 결과 표현 가능')\n",
    "\n",
    "print(\"* for문으로 반복문 구현\")\n",
    "print('=> ', end='')\n",
    "for idx in range(3):\n",
    "    print(idx, end=' ')\n",
    "    \n",
    "print()\n",
    "print(\"* while문으로 반복문 구현\")\n",
    "idx = 0\n",
    "print('=> ', end='')\n",
    "while idx < 3:\n",
    "    print(idx, end=' ')\n",
    "    idx += 1"
   ]
  },
  {
   "cell_type": "markdown",
   "metadata": {},
   "source": [
    "for문은 보통 **반복 횟수가 정해져 있는 경우**에 사용하며, while문은 반복 횟수가 정해져 있는 것이 아니지만 **종료 조건이 명확한 경우**에 사용한다."
   ]
  },
  {
   "cell_type": "code",
   "execution_count": 29,
   "metadata": {},
   "outputs": [
    {
     "name": "stdout",
     "output_type": "stream",
     "text": [
      "input number :10\n",
      "10\n",
      "input number :13\n",
      "13\n",
      "input number :12\n",
      "12\n"
     ]
    }
   ],
   "source": [
    "number = 1\n",
    "while number % 6 != 0:\n",
    "    number = int(input('input number :'))\n",
    "    print(number)"
   ]
  },
  {
   "cell_type": "markdown",
   "metadata": {},
   "source": [
    "## 반복문과 조건문\n",
    "\n",
    "반복문 내부에 조건문과 continue 혹은 break문을 사용한다면 더 다양한 문제를 해결할 수 있다.\n",
    "\n",
    "* continue : 아래의 코드를 무시하고 바로 다음 반복문 실행\n",
    "* break : 모든 조건을 무시하고 반복문 종료\n",
    "\n",
    "문제의 예시, 숫자를 5번 입력받고 입력 받은 숫자들의 합을 출력한다.  \n",
    "음수는 무시하고, 입력하는 숫자가 0 ~ 100에 포함되지 않을 경우 반복문을 종료한다."
   ]
  },
  {
   "cell_type": "code",
   "execution_count": 35,
   "metadata": {},
   "outputs": [
    {
     "name": "stdout",
     "output_type": "stream",
     "text": [
      "input number :2\n",
      "input number :3\n",
      "input number :5\n",
      "input number :6\n",
      "input number :-1000\n",
      "\n",
      "Total : 16\n"
     ]
    }
   ],
   "source": [
    "sum = 0\n",
    "for _ in range(5):\n",
    "    number = int(input(\"input number :\"))\n",
    "    if number < 0:\n",
    "        continue\n",
    "    if number > 100:\n",
    "        break\n",
    "    sum += number\n",
    "    \n",
    "print(\"\\nTotal :\", sum)"
   ]
  },
  {
   "cell_type": "markdown",
   "metadata": {},
   "source": [
    "# 4. 함수\n",
    "\n",
    "## 함수란\n",
    "\n",
    "여러 줄의 코드를 한 줄로 치환시켜 사용하는 것이다. 파이썬에 기본으로 내장 되어있는 수많은 함수들 덕분에 우리는 모든 것을 직접 코딩할 필요없이, 함수를 가져다가 사용하여 원하는 결론을 이끌어낼 수 있다.\n",
    "\n",
    "내장 함수 외에 자신이 자주 사용하는 연산을 직접 사용자 정의 함수로 만들어서 사용할 수 있다."
   ]
  },
  {
   "cell_type": "code",
   "execution_count": 50,
   "metadata": {},
   "outputs": [
    {
     "name": "stdout",
     "output_type": "stream",
     "text": [
      "3.6500000000000004\n",
      "1.9333333333333336\n",
      "4.2\n"
     ]
    }
   ],
   "source": [
    "def avg_grade(score_list):\n",
    "    sum = 0\n",
    "    for score in score_list:\n",
    "        sum += score\n",
    "    avg = sum / len(score_list)\n",
    "    return avg\n",
    "\n",
    "A_student = [4.3, 4.0, 3.0, 3.3, 4.3, 3.0]\n",
    "B_student = [2.3, 3.0, 3.0, 1.3, 0.0, 2.0]\n",
    "C_student = [4.3, 4.0, 4.0, 4.3, 4.3, 4.3]\n",
    "\n",
    "print(avg_grade(A_student))\n",
    "print(avg_grade(B_student))\n",
    "print(avg_grade(C_student))"
   ]
  },
  {
   "cell_type": "markdown",
   "metadata": {},
   "source": [
    "## 함수의 장점\n",
    "\n",
    "### 가독성이 좋아진다\n",
    "\n",
    "함수의 이름만으로 코드를 짐작할 수 있다면, Main 부분의 코드는 파이썬 코드가 아닌 영어처럼 보일 수 있다. 이는 전체적인 코드의 흐름과 하고자 하는 바를 쉽게 이해할 수 있으므로 가독성이 좋아진다고 할 수 있다."
   ]
  },
  {
   "cell_type": "code",
   "execution_count": null,
   "metadata": {},
   "outputs": [],
   "source": [
    "scores = input_score()\n",
    "avg_score = get_avg_score(scores)\n",
    "analogy(avg_score)"
   ]
  },
  {
   "cell_type": "markdown",
   "metadata": {},
   "source": [
    "### 코드의 재사용성\n",
    "\n",
    "직접 모든 코드를 매번 사용하는 것이 아니라, 코드를 함수로 만들어 재사용함으로 개발 속도를 높힐 수 있다."
   ]
  },
  {
   "cell_type": "code",
   "execution_count": 52,
   "metadata": {},
   "outputs": [
    {
     "name": "stdout",
     "output_type": "stream",
     "text": [
      "4.3\n"
     ]
    }
   ],
   "source": [
    "D_student = [4.3, 4.3, 4.3, 4.3, 4.3, 4.3]\n",
    "\n",
    "print(avg_grade(D_student))"
   ]
  },
  {
   "cell_type": "markdown",
   "metadata": {},
   "source": [
    "### Refactoring의 이점\n",
    "\n",
    "반복문과 마찬가지로, 수정할 부분이 있다면 그 코드가 쓰인 모든 곳을 수정할 필요없이 함수 내부만 수정하면 문제를 해결할 수 있다.\n",
    "\n",
    "### Divide and Conquer\n",
    "\n",
    "**큰 문제를 작은 문제로 분할하여 해결**하는 방법. 하나의 함수가 하나의 역할을 잘 수행한다면, 그 역할들이 모여 전체의 문제를 해결할 수 있게 되는 것이다. 오류가 발생하였을 때 어디가 문제인지 정확하게 정의할 수 있다.\n",
    "\n",
    "![DivideAndConqeur](img/conquer.png)"
   ]
  },
  {
   "cell_type": "markdown",
   "metadata": {},
   "source": [
    "## Well-Made 사용자 정의 함수\n",
    "\n",
    "잘 만들어진 사용자 정의 함수란 무엇일까? 다음과 같은 사용자 정의 함수가 조금 더 좋은 코드가 될 수 있도록 바꾸어본다면,"
   ]
  },
  {
   "cell_type": "code",
   "execution_count": 54,
   "metadata": {},
   "outputs": [],
   "source": [
    "def message(t, isPrivate):\n",
    "    if isPrivate:\n",
    "        print(\"This is private message. Be careful!!\")\n",
    "        with open(\"./private.txt\", mode='w') as f:\n",
    "            f.writeline(t)\n",
    "    else:\n",
    "        print(\"This is public message. Don't care about it.\")\n",
    "        with open(\"./public.txt\", mode='w') as f:\n",
    "            f.writeline(t)"
   ]
  },
  {
   "cell_type": "markdown",
   "metadata": {},
   "source": [
    "### 1. 어떤 역할을 하는지 직관적으로 알 수 있는 동사를 쓰자\n",
    "\n",
    "변수의 이름을 지을 때와 마찬가지로 함수 또한 **이름에서 부터 어떤 기능을 하는 함수인지 알 수 있도록** 해야한다."
   ]
  },
  {
   "cell_type": "code",
   "execution_count": 56,
   "metadata": {},
   "outputs": [],
   "source": [
    "def sendMessage(t, isPrivate):\n",
    "    if isPrivate:\n",
    "        print(\"This is private message. Be careful!!\")\n",
    "        with open(\"./private.txt\", mode='w') as f:\n",
    "            f.writeline(t)\n",
    "    else:\n",
    "        print(\"This is public message. Don't care about it.\")\n",
    "        with open(\"./public.txt\", mode='w') as f:\n",
    "            f.writeline(t)"
   ]
  },
  {
   "cell_type": "markdown",
   "metadata": {},
   "source": [
    "### 2. 하나의 함수는 하나의 기능만 하도록 하자\n",
    "\n",
    "하나의 함수가 두 가지의 기능을 한다면, Divide가 제대로 되지 않은 상태이다. **하나의 함수는 무조건 하나의 기능**을 가져야 하는 것이 국룰이며, 그렇게 하지 않으면 디버깅을 할 때에 지옥을 보게 될 지도 모른다.\n",
    "\n",
    "보통 argument에 boolean을 사용하는 경우, 두가지의 기능을 하는 것일 가능성이 높다. 만약에 argument가 boolean이라면 한번 더 생각해 보아야 한다."
   ]
  },
  {
   "cell_type": "code",
   "execution_count": 55,
   "metadata": {},
   "outputs": [],
   "source": [
    "def sendPrivateMessage(t):\n",
    "    print(\"This is private message. Be careful!!\")\n",
    "    with open(\"./private.txt\", mode='w') as f:\n",
    "        f.writeline(t)\n",
    "    \n",
    "def sendPublicMessage(t):\n",
    "    print(\"This is public message. Don't care about it.\")\n",
    "    with open(\"./public.txt\", mode='w') as f:\n",
    "        f.writeline(t)"
   ]
  },
  {
   "cell_type": "markdown",
   "metadata": {},
   "source": [
    "### 3. 함수의 argument를 축약어로 하지 말자\n",
    "\n",
    "축약어를 사용하게 될 경우, 함수의 내부를 보지 않으면 어떤 argument인지 모르게 된다. 두고두고 사용함에 있어 이해가 확실하게 되기 위해서 argument의 의미를 정확하게 알 수 있게 하기 위해 축약어를 사용하지 않는 것이 바람직하다."
   ]
  },
  {
   "cell_type": "code",
   "execution_count": null,
   "metadata": {},
   "outputs": [],
   "source": [
    "def sendPrivateMessage(text):\n",
    "    print(\"This is private message. Be careful!!\")\n",
    "    with open(\"./private.txt\", mode='w') as f:\n",
    "        f.writeline(text)\n",
    "    \n",
    "def sendPublicMessage(text):\n",
    "    print(\"This is public message. Don't care about it.\")\n",
    "    with open(\"./public.txt\", mode='w') as f:\n",
    "        f.writeline(text)"
   ]
  }
 ],
 "metadata": {
  "kernelspec": {
   "display_name": "Python 3",
   "language": "python",
   "name": "python3"
  },
  "language_info": {
   "codemirror_mode": {
    "name": "ipython",
    "version": 3
   },
   "file_extension": ".py",
   "mimetype": "text/x-python",
   "name": "python",
   "nbconvert_exporter": "python",
   "pygments_lexer": "ipython3",
   "version": "3.7.9"
  }
 },
 "nbformat": 4,
 "nbformat_minor": 4
}
