{
 "cells": [
  {
   "cell_type": "code",
   "execution_count": 5,
   "metadata": {},
   "outputs": [],
   "source": [
    "from bs4 import BeautifulSoup"
   ]
  },
  {
   "cell_type": "code",
   "execution_count": 6,
   "metadata": {},
   "outputs": [],
   "source": [
    "html = \"\"\"\n",
    "<!DOCTYPE html>\n",
    "<html lang=\"en\">\n",
    "<head>\n",
    "    <meta charset=\"UTF-8\">\n",
    "    <meta name=\"viewport\" content=\"width=device-width, initial-scale=1.0\">\n",
    "    <title>Shopping Game</title>\n",
    "    <link rel=\"stylesheet\" href=\"style-test.css\" />\n",
    "</head>\n",
    "<body>\n",
    "    <header>\n",
    "        <img src=\"img/logo.png\" alt=\"logo\" class=\"logo\">\n",
    "        <h1 class=\"page-name\">Shopping Mall Game</h1 class=\"page-name\">\n",
    "        <img src=\"img/logo.png\" alt=\"logo\" class=\"logo\">\n",
    "    </header>\n",
    "    <section class=\"buttons\">\n",
    "        <button class=\"btn\">\n",
    "            <img src=\"img/blue_t.png\" alt=\"t-shirts\">\n",
    "        </button>\n",
    "        <button class=\"btn\">\n",
    "            <img src=\"img/blue_p.png\" alt=\"pants\">\n",
    "        </button>\n",
    "        <button class=\"btn\">\n",
    "            <img src=\"img/blue_s.png\" alt=\"skirts\">\n",
    "        </button>\n",
    "        <button class=\"btn colorbtn\">Blue</button>\n",
    "        <button class=\"btn colorbtn\">Yellow</button>\n",
    "        <button class=\"btn colorbtn\">Pink</button>\n",
    "        <table border=\"1\">\n",
    "            <th>테이블</th>\n",
    "            <th>만들기</th>\n",
    "            <tr><!-- 첫번째 줄 시작 -->\n",
    "                <td>첫번째 칸</td>\n",
    "                <td>두번째 칸</td>\n",
    "            </tr><!-- 첫번째 줄 끝 -->\n",
    "            <tr><!-- 두번째 줄 시작 -->\n",
    "                <td>첫번째 칸</td>\n",
    "                <td>두번째 칸</td>\n",
    "            </tr><!-- 두번째 줄 끝 -->\n",
    "        </table>\n",
    "    </section>\n",
    "    <footer>\n",
    "        <span>Contact us</span>\n",
    "        <span>KIST CRSC</span>\n",
    "        <span>Yoo Hyuk Jun</span>\n",
    "    </footer>\n",
    "</body>\n",
    "</html>\n",
    "\"\"\""
   ]
  },
  {
   "cell_type": "code",
   "execution_count": 18,
   "metadata": {},
   "outputs": [
    {
     "name": "stdout",
     "output_type": "stream",
     "text": [
      "0 : <button class=\"btn\">\n",
      "<img alt=\"t-shirts\" src=\"img/blue_t.png\"/>\n",
      "</button>\n",
      "1 : <button class=\"btn\">\n",
      "<img alt=\"pants\" src=\"img/blue_p.png\"/>\n",
      "</button>\n",
      "2 : <button class=\"btn\">\n",
      "<img alt=\"skirts\" src=\"img/blue_s.png\"/>\n",
      "</button>\n",
      "3 : <button class=\"btn colorbtn\">Blue</button>\n",
      "4 : <button class=\"btn colorbtn\">Yellow</button>\n",
      "5 : <button class=\"btn colorbtn\">Pink</button>\n"
     ]
    }
   ],
   "source": [
    "soup = BeautifulSoup(html, 'html.parser', from_encoding='utf-8')\n",
    "\n",
    "button_text_list = soup.find_all('button')\n",
    "\n",
    "for idx, content in enumerate(button_text_list) : \n",
    "    print(str(idx) + \" : \" + str(content))"
   ]
  }
 ],
 "metadata": {
  "kernelspec": {
   "display_name": "Python 3",
   "language": "python",
   "name": "python3"
  },
  "language_info": {
   "codemirror_mode": {
    "name": "ipython",
    "version": 3
   },
   "file_extension": ".py",
   "mimetype": "text/x-python",
   "name": "python",
   "nbconvert_exporter": "python",
   "pygments_lexer": "ipython3",
   "version": "3.8.5"
  }
 },
 "nbformat": 4,
 "nbformat_minor": 4
}
