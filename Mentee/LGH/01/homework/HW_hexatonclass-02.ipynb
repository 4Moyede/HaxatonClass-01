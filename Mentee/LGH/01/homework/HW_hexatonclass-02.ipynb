{
 "cells": [
  {
   "cell_type": "code",
   "execution_count": null,
   "metadata": {},
   "outputs": [],
   "source": []
  },
  {
   "cell_type": "code",
   "execution_count": null,
   "metadata": {},
   "outputs": [],
   "source": [
    "from collections import defaultdict\n",
    "\n",
    "def make_triangle(n):\n",
    "    if n > 100:\n",
    "        print(\"ㅠㅠ 100이 넘어요\")\n",
    "\n",
    "    else:\n",
    "        ac = [i for i in range(65, 91)] # 대문자 아스키 코드\n",
    "        valdict = defaultdict(int) # 값 담을 딕셔너리\n",
    "        for i in range(n):\n",
    "            for j in range(n):\n",
    "                valdict[(i, j)]\n",
    "        count = 0\n",
    "\n",
    "        # 대각선의 합이 n-1부터 2n-2 사이인 곳에 순서대로 아스키 코드 넣기   \n",
    "        for x in range(n-1, 2*n-1): \n",
    "            for index in valdict:\n",
    "                if (index[0] + index[1]) == x:\n",
    "                    valdict[index] = ac[count % len(ac)] # A~Z까지 다 돌면 다시 돌게하기\n",
    "                    count += 1\n",
    "\n",
    "        # 출력할 문자열 만들기\n",
    "        result = ''\n",
    "        count = 0\n",
    "        for index, value in valdict.items():\n",
    "            if value == 0:\n",
    "                result += ' '\n",
    "                count += 1\n",
    "                if count % n == 0: result += '\\n'\n",
    "                else: result += ' '\n",
    "            else:\n",
    "                result += '{}'.format(chr(value))\n",
    "                count += 1\n",
    "                if count % n == 0: result += '\\n'\n",
    "                else: result += ' '\n",
    "\n",
    "        print(result, end='')\n",
    "\n",
    "# 함수 실행\n",
    "# make_triangle(3)\n",
    "# make_triangle(101)\n",
    "\n",
    "# 만약에 키보드 입력 받으라 하면 아래 코드로 실행\n",
    "try:\n",
    "    x = int(input(\"정수를 입력해: \"))\n",
    "    make_triangle(x)\n",
    "except ValueError:\n",
    "    print(\"정수를 입력하란 말이야ㅠㅠ\")\n",
    "\n"
   ]
  },
  {
   "cell_type": "code",
   "execution_count": null,
   "metadata": {},
   "outputs": [],
   "source": [
    "#2번 문제\n",
    "for i in range(10):\n",
    "    num = int(input(\"21억 이하의 정수를 입력하세여:\"))\n",
    "    if num == 0 : \n",
    "        break\n",
    "    else : \n",
    "        if num > 2100000000 or num < 1 : \n",
    "            print(\"입력거절\")\n",
    "        elif num > 1000000000 :\n",
    "            if num % 100 > 12 or num % 10 > 2 : \n",
    "                print(\"입력거절\")\n",
    "            else :\n",
    "                continue\n",
    "        else : \n",
    "            sum_num = sum([int(digit) for digit in str(num)])\n",
    "            reversed_num = ''\n",
    "            for i in range(len(str(num))) :\n",
    "                if i == 0 : \n",
    "                    reversed_num += str(num % 10)\n",
    "                elif i > 0 and i < len(str(num)) - 1 :\n",
    "                    reversed_num += str(num//(10**i)%10)\n",
    "                elif i == len(str(num)) - 1 :\n",
    "                    reversed_num += str(num//(10**(len(str(num))-1)))\n",
    "            \n",
    "            print(reversed_num, sum_num)       "
   ]
  },
  {
   "cell_type": "code",
   "execution_count": null,
   "metadata": {},
   "outputs": [],
   "source": []
  }
 ],
 "metadata": {
  "kernelspec": {
   "display_name": "Python 3",
   "language": "python",
   "name": "python3"
  },
  "language_info": {
   "codemirror_mode": {
    "name": "ipython",
    "version": 3
   },
   "file_extension": ".py",
   "mimetype": "text/x-python",
   "name": "python",
   "nbconvert_exporter": "python",
   "pygments_lexer": "ipython3",
   "version": "3.8.3"
  }
 },
 "nbformat": 4,
 "nbformat_minor": 4
}
