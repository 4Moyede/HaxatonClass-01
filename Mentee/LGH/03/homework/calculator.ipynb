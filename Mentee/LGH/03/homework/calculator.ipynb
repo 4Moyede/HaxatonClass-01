{
 "cells": [
  {
   "cell_type": "code",
   "execution_count": 11,
   "metadata": {},
   "outputs": [
    {
     "name": "stdout",
     "output_type": "stream",
     "text": [
      "잘못 입력하면 프로그램은 끝납니다\n",
      "INPUT3\n",
      "INPUT/\n",
      "INPUT5\n",
      "3/5 = 0.6\n",
      "잘못 입력하면 프로그램은 끝납니다\n",
      "INPUT3\n",
      "INPUT*\n",
      "INPUT6\n",
      "3*6 = 18\n",
      "잘못 입력하면 프로그램은 끝납니다\n",
      "INPUT-\n",
      "잘못된 입력ㅇㅇ\n"
     ]
    }
   ],
   "source": [
    "class Calculator:\n",
    "    def __init__(self, x, operator, y) : \n",
    "        self.x = x\n",
    "        self.y = y\n",
    "        self.operator = operator\n",
    "        \n",
    "    def operator(self) : \n",
    "        operator = self.operator\n",
    "        return operator\n",
    "        \n",
    "\n",
    "    def add(self):\n",
    "        answer = self.x + self.y\n",
    "        return answer\n",
    "    \n",
    "    def subtract(self):\n",
    "        answer = self.x - self.y\n",
    "        return answer\n",
    "    \n",
    "\n",
    "    def multiply(self):\n",
    "        answer = self.x * self.y\n",
    "        return answer\n",
    "\n",
    "    def divide(self):\n",
    "        if self.y == 0:\n",
    "            answer = \"ERROR\"\n",
    "        else:\n",
    "            answer = self.x / self.y\n",
    "        return answer\n",
    "\n",
    "\n",
    "try : \n",
    "    while True : \n",
    "        print(\"잘못 입력하면 프로그램은 끝납니다\")\n",
    "        cal = Calculator(int(input('INPUT')), input('INPUT'), int(input('INPUT')))\n",
    "\n",
    "        \n",
    "        if cal.operator == '+' : \n",
    "            print(\"{}{}{} = {}\".format(cal.x, cal.operator, cal.y, cal.add()))\n",
    "\n",
    "        elif cal.operator == '-' : \n",
    "            print(\"{}{}{} = {}\".format(cal.x, cal.operator, cal.y, cal.subtract()))\n",
    "    \n",
    "        elif cal.operator == '*' :\n",
    "            print(\"{}{}{} = {}\".format(cal.x, cal.operator, cal.y, cal.multiply()))\n",
    "    \n",
    "        elif cal.operator == '/' :\n",
    "            print(\"{}{}{} = {}\".format(cal.x, cal.operator, cal.y, cal.divide()))\n",
    "        \n",
    "        else : \n",
    "            print(\"잘못된 입력입니다\")\n",
    "            break\n",
    "\n",
    "except : \n",
    "    print(\"잘못된 입력입니다\")\n",
    "    "
   ]
  },
  {
   "cell_type": "code",
   "execution_count": null,
   "metadata": {},
   "outputs": [],
   "source": [
    "        \n",
    "        if cal.operator != '+' or '-' or '*' or '/' : \n",
    "            print(\"잘못된 입력입니다\")"
   ]
  },
  {
   "cell_type": "code",
   "execution_count": null,
   "metadata": {},
   "outputs": [],
   "source": []
  }
 ],
 "metadata": {
  "kernelspec": {
   "display_name": "Python 3.8 : hexaton",
   "language": "python",
   "name": "hexaton"
  },
  "language_info": {
   "codemirror_mode": {
    "name": "ipython",
    "version": 3
   },
   "file_extension": ".py",
   "mimetype": "text/x-python",
   "name": "python",
   "nbconvert_exporter": "python",
   "pygments_lexer": "ipython3",
   "version": "3.9.1"
  }
 },
 "nbformat": 4,
 "nbformat_minor": 4
}
