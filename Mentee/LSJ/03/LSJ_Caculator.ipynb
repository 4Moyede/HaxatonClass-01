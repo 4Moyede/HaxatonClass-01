{
 "cells": [
  {
   "cell_type": "code",
   "execution_count": null,
   "metadata": {},
   "outputs": [
    {
     "name": "stdout",
     "output_type": "stream",
     "text": [
      "123\n",
      "[result] 123\n",
      "+\n",
      "42\n",
      "[result] 165\n",
      "=\n",
      "[result] 165\n",
      "+\n",
      "34\n",
      "[result] 199\n",
      "CE\n",
      "[result] 0\n"
     ]
    }
   ],
   "source": [
    "class PyCalculator:\n",
    "\n",
    "    def __init__(self):\n",
    "        self.total = 0\n",
    "        \n",
    "    def Calplus(self, number):\n",
    "        self.total += number\n",
    "        return self.total\n",
    "    \n",
    "    def Calminus(self, number):\n",
    "        self.total -= number\n",
    "        return self.total\n",
    "    \n",
    "    def Calmulti(self, number):\n",
    "        self.total *= number\n",
    "        return self.total\n",
    "    \n",
    "    def Caldiv(self, number):\n",
    "        if number == 0:\n",
    "            print(\"0으로 나눌 수 없습니다.\")\n",
    "        else:\n",
    "            self.total /= number\n",
    "        return self.total\n",
    "    \n",
    "    def CalReset(self, number):\n",
    "        self.total = number\n",
    "        return self.total\n",
    "    \n",
    "    \n",
    "    \n",
    "cal =PyCalculator()\n",
    "data = 0\n",
    "while data != \"END\":\n",
    "    data = input()\n",
    "    if data == \"+\" :\n",
    "        cal.Calplus(int(input()))\n",
    "        \n",
    "    elif data == \"-\":\n",
    "        cal.Calminus(int(input()))\n",
    "        \n",
    "    elif data == \"*\":\n",
    "        cal.Calmulti(int(input()))\n",
    "        \n",
    "    elif data == \"/\":\n",
    "        cal.Caldiv(int(input()))\n",
    "        \n",
    "    elif data == \"=\":\n",
    "        pass\n",
    "        \n",
    "    elif data == \"CE\":\n",
    "        cal.CalReset(0)\n",
    "    \n",
    "        \n",
    "    else:#사칙연산하다가 중간에 숫자입력하면 그동안 쌓았던 데이터가 없어지는거 구현\n",
    "        if data == 'END':\n",
    "            break\n",
    "        else:\n",
    "            cal.CalReset(int(data))\n",
    "           \n",
    "    print(\"[result]\",cal.total)"
   ]
  },
  {
   "cell_type": "code",
   "execution_count": null,
   "metadata": {},
   "outputs": [],
   "source": []
  }
 ],
 "metadata": {
  "kernelspec": {
   "display_name": "Python 3.8 : Hexaton_S_SJ",
   "language": "python",
   "name": "hexaton_s_sj"
  },
  "language_info": {
   "codemirror_mode": {
    "name": "ipython",
    "version": 3
   },
   "file_extension": ".py",
   "mimetype": "text/x-python",
   "name": "python",
   "nbconvert_exporter": "python",
   "pygments_lexer": "ipython3",
   "version": "3.9.1"
  }
 },
 "nbformat": 4,
 "nbformat_minor": 4
}
