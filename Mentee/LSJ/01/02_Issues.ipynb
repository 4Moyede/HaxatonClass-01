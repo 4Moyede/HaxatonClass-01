{
 "cells": [
  {
   "cell_type": "markdown",
   "metadata": {},
   "source": [
    "### 지난주 Issue들 알아보기\n",
    "\n",
    "##### 첫번째 이슈\n",
    "git을 하는 방법은 지금 처럼 git bash를 이용하는 방법도 있지만,\n",
    "git을 도와주는 여러가지 프로그램들이 잘 되어있다.(github desktop, git kraken, git bash)\n",
    "그렇기에 꼭 한가지 방법이 정답이라고는 볼 수 없음!\n",
    "\n",
    "##### 두번째 이슈\n",
    "Origin Push 오류 -> Origin에 Push하려했지만 권한이 없다고 뜸\n",
    "'remote: Permission to 4Moyede/HexatonClass-01.git denied to lsj0822.'와 함께 403오류가 떴다.\n",
    "403 오류의 경우 [Mozilla] https://developer.mozilla.org/ko/docs/Web/HTTP/Status/403 를 참고하면 서버에 요청했지만 권한이 거절되었다고 뜨는 오류이다.\n",
    "\n",
    "이렇게 뜬 원인은 github의 collaborators라는 개념때문에 그렇다. collaborators는 github에서 말그대로 변경권한을 주는 것을 의미하는데, 이때 권한을 주는 방법은 아이디나 이메일로 초대링크를 보내면 그것을 받으면 된다.\n",
    "\n",
    "그러나 내가 아이디를 맨처음에 ldg1103이라는 기존에 쓰던 아이디로 이 초대를 받았기 때문에 lsj0822으로는 당연히 권한이 없었던 것이다.\n",
    "\n",
    "따라서 초대를 다시 받음으로써 해결완료\n",
    "\n",
    "##### 세번째 이슈\n",
    "\"Sorry something went wrong. Reload?\" 오류\n",
    "\n",
    "말그대로 로딩 오류다. 그나마 다른 이슈들에 비해서는 해결방법이 간단한편\n",
    "\n",
    "~~~성질 급한 한국인~~~ 들은 이런 오류를 못참아서 해결방법을 묻지만 단순히 로딩오류기 때문에 F5를 눌러 새로고침하거나, 아니면 git에 push하여 이를 다운받아서 열어보는 방법도 가능하다.\n",
    "\n",
    "##### 네번째 이슈\n",
    "이미 push한 commit에 파일을 추가하는 과정에서 생긴 문제\n",
    "\n",
    "1.이미 push 했던 commit에 새로운 파일을 추가하는 것은 불가능합니다\n",
    "local에서 새로 제대로 된 commit log를 만들어서 git push -f 혹은 git push --force를 하면, 기존에 있던 git log가 무시되고 이번에 push한 git log로 대체 됩니다\n",
    "만약 -f 옵션을 추가하지 않는다면 기존의 commit log와 지금 올리려는 log가 너무 다르기 때문에 reject가 발생하는 것입니다\n",
    "그래서 사실 잘 못하면 이전의 했던 모든 것들이 사라질 수 도 있는 위험할수도 있는 작업입니다. 초기 단계라서 아무일 없이 잘 된 것 같습니다.\n",
    "2.모든 commit을 삭제하셨다고 하셨는데, 어떤 방식으로 했는지는 알 수 없지만 아마 git 자체의 오류가 발생하여 Deadlock이 발생한 것입니다.\n",
    "명령어에 따른 작업이 시작하고 끝이 나야 다음 명령어를 실행하는데, 계속 명령어가 끝나지 않은 상태가 되어서 git add 명령어가 실행 되지 않은 것입니다.\n",
    "원래 index.lock이라는 파일이 명령어가 끝이 나면 사라져야 하는데 삭제되지 않았고, 직접 삭제를 하고 나서야 Deadlock이 풀려 다음 명령어가 동작한 것이라고 예상합니다.\n",
    "\n",
    "다음과 같은 원인때문에 commit이 오류가 난것으로 보인다.\n",
    "\n",
    "여기에서 가장 중요한것은 -f 옵션이다! -f의 경우 단어 뜻 그대로 force, 강제로 실행하는 것이다. 그렇기에 이 방법으로 push를 하게 된다면 git log를 아예 무시해버리고 새로 덮어쓰게 된다. \n",
    "또한 이 내용에는 없지만, HEAD를 움직인다음에 이를 다시 되돌릴때, HEAD의 상대참조를 ^^^^와 같이 많이 돌리게 된다면, github에 있는 commit이 그 전 단계로 돌아가버린다! 이 부분은 정말 중요하기 때문에 꼭 여러번 복습하는게 좋을것같다. 사실 지금도 완벽하게 이해된게 아니니..."
   ]
  }
 ],
 "metadata": {
  "kernelspec": {
   "display_name": "Python 3.8 : Hexaton_S_SJ",
   "language": "python",
   "name": "hexaton_s_sj"
  },
  "language_info": {
   "codemirror_mode": {
    "name": "ipython",
    "version": 3
   },
   "file_extension": ".py",
   "mimetype": "text/x-python",
   "name": "python",
   "nbconvert_exporter": "python",
   "pygments_lexer": "ipython3",
   "version": "3.9.1"
  }
 },
 "nbformat": 4,
 "nbformat_minor": 4
}
