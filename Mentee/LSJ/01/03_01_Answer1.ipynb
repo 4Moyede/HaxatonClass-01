{
 "cells": [
  {
   "cell_type": "code",
   "execution_count": 22,
   "metadata": {},
   "outputs": [
    {
     "name": "stdout",
     "output_type": "stream",
     "text": [
      "10\n",
      "                    \n",
      "                  A \n",
      "                B K \n",
      "              C L T \n",
      "            D M U B \n",
      "          E N V C I \n",
      "        F O W D J O \n",
      "      G P X E K P T \n",
      "    H Q Y F L Q U X \n",
      "  I R Z G M R V Y A \n",
      "J S A H N S W Z B C \n"
     ]
    }
   ],
   "source": [
    "LineInput = int(input()) # 줄 개수를 받는 변수 LineInput\n",
    "String = 0 #변수 String(문자) 정의\n",
    "StringPlus = 0 #같은 줄에 n개만큼 더한다는 것을 표현하는 변수 정의\n",
    "Blank = 0 #빈칸 개수 정하는 변수 정의\n",
    "for Lines in range(LineInput+1):\n",
    "    String = Lines #각 줄의 첫번째 글자를 설정함\n",
    "    for Blank in range(LineInput - Lines):\n",
    "        print(end=\"  \")\n",
    "    for StringPlus in range(Lines):\n",
    "        print(chr((int(String)-1)%26+65), end=\" \")\n",
    "        String += LineInput - StringPlus -1\n",
    "    print('')"
   ]
  }
 ],
 "metadata": {
  "kernelspec": {
   "display_name": "Python 3.8 : Hexaton_S_SJ",
   "language": "python",
   "name": "hexaton_s_sj"
  },
  "language_info": {
   "codemirror_mode": {
    "name": "ipython",
    "version": 3
   },
   "file_extension": ".py",
   "mimetype": "text/x-python",
   "name": "python",
   "nbconvert_exporter": "python",
   "pygments_lexer": "ipython3",
   "version": "3.9.1"
  }
 },
 "nbformat": 4,
 "nbformat_minor": 4
}
