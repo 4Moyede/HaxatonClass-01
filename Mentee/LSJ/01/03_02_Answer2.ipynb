{
 "cells": [
  {
   "cell_type": "code",
   "execution_count": null,
   "metadata": {},
   "outputs": [],
   "source": [
    "#함수는 2개로 구현, 각 자리수의 합을 구하는 함수 & 역을 만드는 함수\n",
    "#각 자리수를 구현하는 함수는 TotalSum으로하고, 역은 TotalReverse로 하자(통일)\n",
    "\n",
    "def TotalSum(InputNumber):\n",
    "    sum = 0\n",
    "    for Digits in InputNumber:\n",
    "        if InputNumber == '0':\n",
    "            break\n",
    "        else:\n",
    "            sum += int(Digits)\n",
    "    return sum\n",
    "\n",
    "def TotalReverse(InputNumber):\n",
    "    reverse = 0\n",
    "    digit = 0\n",
    "    for Digits in InputNumber:\n",
    "        if InputNumber == '0':\n",
    "            break\n",
    "        else:\n",
    "            reverse += int(Digits) * 10**(digit)\n",
    "            digit += 1\n",
    "    return reverse\n",
    "\n",
    "Trial = 0\n",
    "\n",
    "while Trial<10 :\n",
    "    InputNumber = input()\n",
    "    if InputNumber == '0':\n",
    "        break\n",
    "    else:\n",
    "        print(TotalReverse(InputNumber),TotalSum(InputNumber))\n",
    "        Trial += 1"
   ]
  }
 ],
 "metadata": {
  "kernelspec": {
   "display_name": "Python 3.8 : Hexaton_S_SJ",
   "language": "python",
   "name": "hexaton_s_sj"
  },
  "language_info": {
   "codemirror_mode": {
    "name": "ipython",
    "version": 3
   },
   "file_extension": ".py",
   "mimetype": "text/x-python",
   "name": "python",
   "nbconvert_exporter": "python",
   "pygments_lexer": "ipython3",
   "version": "3.9.1"
  }
 },
 "nbformat": 4,
 "nbformat_minor": 4
}
