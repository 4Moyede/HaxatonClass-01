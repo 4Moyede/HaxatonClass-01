{
 "cells": [
  {
   "cell_type": "code",
   "execution_count": null,
   "metadata": {},
   "outputs": [],
   "source": [
    "FreqDict = {} #FrequencyDictionary, 한줄이 끝날때마다 딕셔너리를 초기화함\n",
    "FreqTotalDict = {} #총 빈도수를 지정하는 딕셔너리\n",
    "\n",
    "def CheckFrequency():\n",
    "    Sentence = input().split() #문자열로 되어있는 것을 split함수를 이용하여 리스트로 변경\n",
    "    for Frequency in Sentence:\n",
    "        if \"END\" in Sentence: \n",
    "            break\n",
    "        else:\n",
    "            if Frequency in FreqDict: #Frequency라는 키가 빈도수를 일시적으로 저장하는 딕셔너리에 있다면 1을 더하고, 없다면 1로 지정\n",
    "                FreqDict[Frequency] += 1\n",
    "            else:\n",
    "                FreqDict[Frequency] =1\n",
    "    return FreqDict.items()\n",
    "\n",
    "def CheckGlobalFrequency(Dictionary): #FreqDict이라는 딕셔너리는 매 줄마다 일시적으로 사용하는 딕셔너리이므로 총합을 구하기위해서 별도로 저장\n",
    "    for FreqKey, FreqValue in Dictionary:\n",
    "        if FreqKey in FreqTotalDict:\n",
    "            FreqTotalDict[FreqKey] += FreqValue\n",
    "        else:\n",
    "            FreqTotalDict[FreqKey] = FreqValue\n",
    "    \n",
    "\n",
    "\n",
    "Trial = 1\n",
    "\n",
    "while Trial<=20 :\n",
    "    SenResult = CheckFrequency()\n",
    "    if FreqDict == {}:\n",
    "        break\n",
    "    else:\n",
    "        print(\"[Sentence %d]\"%Trial)\n",
    "        for word, frequnecy in sorted(SenResult, key=lambda x : (x[1], x[0])): #정렬을 위하여 람다함수를 이용, 구글링했습니다... 어려워\n",
    "            print(word,\":\",frequnecy)\n",
    "        Trial += 1\n",
    "        CheckGlobalFrequency(FreqDict.items())\n",
    "        FreqDict = {}\n",
    "        print('\\n')\n",
    "\n",
    "print(\"[All Sentence]\") #while문을 빠져나왔을때(END로 끝나거나 20문장이 채워지는 경우) 마지막으로 이 부분을 실행\n",
    "for word, frequency in sorted(FreqTotalDict.items(), key=lambda x : (x[1], x[0])):\n",
    "    print(word,\":\",frequency)"
   ]
  }
 ],
 "metadata": {
  "kernelspec": {
   "display_name": "Python 3.8 : Hexaton_S_SJ",
   "language": "python",
   "name": "hexaton_s_sj"
  },
  "language_info": {
   "codemirror_mode": {
    "name": "ipython",
    "version": 3
   },
   "file_extension": ".py",
   "mimetype": "text/x-python",
   "name": "python",
   "nbconvert_exporter": "python",
   "pygments_lexer": "ipython3",
   "version": "3.9.1"
  }
 },
 "nbformat": 4,
 "nbformat_minor": 4
}
