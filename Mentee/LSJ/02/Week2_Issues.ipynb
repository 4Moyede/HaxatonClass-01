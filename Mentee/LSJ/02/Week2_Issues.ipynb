{
 "cells": [
  {
   "cell_type": "markdown",
   "metadata": {},
   "source": [
    "### 지난주 Issue들 알아보기\n",
    "\n",
    "#### 첫번째 이슈\n",
    "###### LF will be replaced by CRLF\n",
    "이 이슈의 경우, 다른 이슈들과는 다르게 오류가 실행권한을 막지는 않고, 경고메시지만 뜬 오류이다.\n",
    "\n",
    "```git bash\n",
    "warning: LF will be replaced by CRLF in Mentee/LSJ/01/03_01_Answer1.ipynb.\n",
    "The file will have its original line endings in your working directory\n",
    "```\n",
    "\n",
    "이 오류의 경우, 줄넘김과 줄바꿈 때문에 다음과 같은 오류가 떴다.\n",
    "\n",
    "여기에서 LF은 Line Feed로 줄바꿈을 의미하고, CR은 커서를 각 줄의 첫번째 글자로 옮김을 의미한다.\n",
    "\n",
    "물론 위의 방법의 경우 예전에 타자기에서 유효한 방법이기 때문에, 현재 Linux/Mac 환경에서는 CR을 해줄필요없이 \\n으로 줄넘김을 하면 되지만, 반면에 Windows에서는 여전히 줄바꿈을 할때 LF와 함께 CR을 해야한다. 코드에서 줄바꿈을 \\n으로만 해서 생긴 오류로, 이를 해결하기 위해서는 설정에서 자동으로 CRLF를 해주면 된다(autocrlf)\n",
    "\n",
    "#### 두번째 이슈\n",
    "###### else: continue\n",
    "\n",
    "```python\n",
    "else:\n",
    "    continue\n",
    "```\n",
    "\n",
    "이 구문의 경우 for문에서 else가 나왔을때, continue를 통해 아래 구문을 무시하고 다시 for문으로 돌아가라는 뜻이다.\n",
    "\n",
    "그렇지만 이 문제에서는 for문이 사용되지 않았기 때문에, continue라는 것은 코드를 실행하는 데엔 오류가 없지만, 코드에서 맞지 않는 코드가 되어버린것이다. 이러한 코드의 경우 의도한대로 실행하려면\n",
    "\n",
    "else문을 아예 없애거나\n",
    "\n",
    "```python\n",
    "else:\n",
    "    pass\n",
    "```\n",
    "\n",
    "이와 같이 pass문을 써주면 원하는 대로 실행이 된다.\n",
    "\n",
    "\n",
    "#### 세번째 이슈\n",
    "###### pull request 까지 진행한 후에 갑자기 파일을 빼고 싶다?\n",
    "\n",
    "git에서 파일을 삭제하거나 수정할때, 이는 똑같이 git add를 이용하여 수정된 파일과 변경된 파일을 관리할 수 있다.\n",
    "\n",
    "구체적으로는 파일을 변경하거나 삭제할때는 git add -u(update)라는 명령어를 이용하면 파일 삭제/수정을 일괄적으로 add해준다.\n",
    "\n",
    "그런데, 이렇게 한다고해도 중간에 잘못된 파일을 업로드했을때, 이때 이 커밋을 완전히 삭제해야할때가 있다.\n",
    "\n",
    "그런경우에는 강제로 그 이전 커밋으로 덮어씌우면 되는데, 이때 --hard라는 명령어를 사용한다.\n",
    "\n",
    "--hard라는 명령어는 이전 파일들을 무시하고 이전으로 돌릴때 유용하지만, 잘못사용하면 이전 파일들을 전부 날릴 수 있으니 신중하게 사용하는게 좋다"
   ]
  }
 ],
 "metadata": {
  "kernelspec": {
   "display_name": "Python 3.8 : Hexaton_S_SJ",
   "language": "python",
   "name": "hexaton_s_sj"
  },
  "language_info": {
   "codemirror_mode": {
    "name": "ipython",
    "version": 3
   },
   "file_extension": ".py",
   "mimetype": "text/x-python",
   "name": "python",
   "nbconvert_exporter": "python",
   "pygments_lexer": "ipython3",
   "version": "3.9.1"
  }
 },
 "nbformat": 4,
 "nbformat_minor": 4
}
