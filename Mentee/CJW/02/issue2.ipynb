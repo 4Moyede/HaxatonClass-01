{
 "cells": [
  {
   "cell_type": "markdown",
   "metadata": {},
   "source": [
    "# issue 목록\n",
    "\n",
    "**1. [GitHub] LF will be replaced by CRLF**\n",
    "\n",
    "> warning: LF will be replaced by CRLF in Mentee/LSJ/01/03_01_Answer1.ipynb.\n",
    "The file will have its original line endings in your working directory\n",
    "\n",
    "git bash를 이용하면서 파일을 업로드할 때 위와 같은 메세지가 뜨는 것을 본 적이 있다. 내 노트북은 Windows로 이는 줄바꿈을 CRLF(\\r\\n)라고 약속하고 있고, Linux와 Mac에서는 줄바꿈을 LF(\\n)라고 약속(git bash에서 Linux사용)하였습니다. 그런데, 지금 우리는 Linux/Mac 의 방식대로 \\n만 입력했으므로 이 파일에 있는 \\n(LF)를 \\r\\n(CRLF)로 바꿔서 줄바꿈을 제대로 표현할 수 있도록 해주겠다는 의미\n",
    "\n",
    "-> 파일을 add할 때 이 경고 메세지가 떠도 파일 올리는데는 지장이 없어서 무시하고 진행했지만 이슈 정리를 계기로 알게 됨 !\n",
    "\n",
    "**2. [GitHub] 이미 push까지 해버린 상태에서 add한 파일을 변경하는 방법**\n",
    "\n",
    "Tracked(관리대상)인 파일은 아래와 같다\n",
    "\n",
    "1.Unmodified(수정하지 않음)\n",
    "2.Modified(수정함)\n",
    "3.Staged\n",
    "\n",
    " 변경하고 싶은 파일을 수정(이는 원래의 파일이 modified된 상태 -> git status를 사용해 확인)한 후 다시 git add를 이용해 파일을 올려주게 되면 modified된 상태를 staged상태로 바꿔줌\n",
    " \n",
    " 위 과정을 거친 뒤 push를 해주면 변경 가능\n",
    " \n",
    " 또는 git add -u (변경된 파일을 감지해서 add 하는거) 코드를 이용 가능\n",
    "\n",
    "\n",
    "**3. [GitHub] pull request 까지 진행한 후에 갑자기 파일을 빼고 싶다?** \n",
    "\n",
    "git 을 이용하다가 파일 이름이 변경되거나 삭제가 되면, 서버에 반영이 되지 않음 ! \n",
    "\n",
    "<방법>\n",
    "\n",
    "1.따라서 컴퓨터 디렉토리 상에서 파일을 삭제한 후 , 위에서 말했던 git add -u 명령어를 사용. (-u 옵션의 의미는 update tracked files)\n",
    "위와 같은 변경사항을 commit해줌\n",
    "\n",
    "2.git rm 파일 이름 : 파일 삭제 (로컬 디렉토리, git 저장소에서 모두 삭제) -> commit 가능 !\n",
    "\n",
    "\n",
    "** 위 세가지의 issue가 1/9일 수업 전에 생성된 issue이므로 위 3개를 정리하였음 그 뒤에 issue는 다음 과제와 함께 올리겠음 (혹시나 이렇게 하는 게 아니라면 알려주세용 ㅠㅠ)"
   ]
  },
  {
   "cell_type": "code",
   "execution_count": null,
   "metadata": {},
   "outputs": [],
   "source": []
  }
 ],
 "metadata": {
  "kernelspec": {
   "display_name": "Python 3.7 : hexaton-1",
   "language": "python",
   "name": "hexaton-1"
  },
  "language_info": {
   "codemirror_mode": {
    "name": "ipython",
    "version": 3
   },
   "file_extension": ".py",
   "mimetype": "text/x-python",
   "name": "python",
   "nbconvert_exporter": "python",
   "pygments_lexer": "ipython3",
   "version": "3.9.1"
  }
 },
 "nbformat": 4,
 "nbformat_minor": 4
}
