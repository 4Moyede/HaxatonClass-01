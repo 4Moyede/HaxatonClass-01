{
 "cells": [
  {
   "cell_type": "markdown",
   "metadata": {},
   "source": [
    "# issue 목록\n",
    "\n",
    "**1. [GitHub] push 시 나타나는 403 에러**\n",
    "\n",
    "인터넷 네트워크에서 403 error는 클라이언트 오류 상태 응답 코드는 서버에 요청이 전달되었지만, 권한 때문에 거절되었다는 것을 의미\n",
    "Github에서 Repository를 생성하고, 다른 사람과 협업을 진행할 때, github 이메일로 collaborator를 추가할 수 있다. \n",
    "따라서 이 문제의 원인은 초대 받았던 github 계정으로 다시 push를 하지 않은 것과 , 기존 github 계정을 삭제하고, 새롭게 만든 계정을 다시 초대 받아서 push하는 방법이 있다고 배움.\n",
    "\n",
    "나 같은 경우에도 push하는 과정에서 403에러를 겪었는데 , 초대받은 계정으로 push를 했지만 초대장을 수락하지않아서 권한이 없었고 이 에러가 생성되었음\n",
    "\n",
    "-> 이를 통해 협업을 진행하는 과정에서 collaborator를 추가의 중요성과 계정 설정을 제대로 하는 것이 중요함을 인지\n",
    "\n",
    "**2. [Environment] Git Bash와 conda 연결 문제점\n",
    "강의를 들으면서 git bash(리눅스 환경)를 처음 사용하였는데 git bash와 conda를 연결함으로써 git bash에서도 파이썬 실행하여 사용 가능!\n",
    "\n",
    "\n",
    "'''python\n",
    "echo 'export PATH=\"$PATH:[YOUR_PATH]:[YOUR_PATH]/Scripts\"' >> .bashrc\n",
    "echo 'alias python=\"winpty python.exe\"' >> .bashrc\n",
    "source ~/.bashrc\n",
    "\n",
    "conda --version\n",
    "\n",
    "conda init bash \n",
    "\n",
    "-> 명령어 코드\n",
    "git bash에게 conda와 python이 있는지 알려줘서 실행가능하게끔 만들어줌\n",
    "\n",
    "3. [Github] \"Sorry something went wrong. Reload?\" 오류\n",
    "\n",
    "Github에서 Jupyter Notebook or pdf file 파일이 렌더링 되지 않을 때 해결법\n",
    "\n",
    "해결 방법\n",
    "-새로고침 (F5)\n",
    "-깃헙에서 소스코드를 다운로드 받으셔서 주피터 노트북에서 열어주시면 됩니다.\n",
    "-nbviewer의 url에서 주피터 노트북 파일이 올려져 있는 깃허브 url을 합치면 됩니다.\n",
    "-https://colab.research.google.com/github/4Moyede/HexatonClass-01, colab으로 들어가서 ipynb나 pdf 파일을 열어보면 됩니다.\n",
    "\n",
    "-> 또는 .ipynb 파일을 .py로 변환한 다음 github에서 열어도 괜찮을 거 같다. 가끔 주피터 노트북이 렉이 걸려서 잘 안보일 때 , 크롬창을 끄고 다시 연 다음 확인했었는데 꿀팁인듯 !\n",
    "\n",
    "4. [Github] Origin Push 오류 \n",
    "\n",
    "-> 1번의 오류와 동일한 이슈\n",
    "\n",
    "5. [Github] Git Application에 관련될 질문 & 답변\n",
    "\n",
    "-git는 여러분들의 local file들의 version을 관리하는 VCS (Version Control System) \n",
    "-github는 여러분들의 local file들의 여러 version들을 remote repository (원격 저장소) 에 upload와 관리 하면서 여러 사람들이 한 원격저장소에서 같이 협업하는데 도움을 주는 system\n",
    "\n",
    "즉, git는 local file, github는 remote file을 다루는 어플리케이션 \n",
    "\n",
    "<git application>\n",
    "-git GUI\n",
    "-git kraken\n",
    "-git bash\n",
    "\n",
    "-> 덕규님이 쓰신다고 말씀해주신 github desktop 이외에도 github for mobile이 존재하여 휴대폰으로도 github을 손쉽게 이용가능하다는 것을 알게 됨\n"
   ]
  }
 ],
 "metadata": {
  "kernelspec": {
   "display_name": "Python 3.7 : hexaton-1",
   "language": "python",
   "name": "hexaton-1"
  },
  "language_info": {
   "codemirror_mode": {
    "name": "ipython",
    "version": 3
   },
   "file_extension": ".py",
   "mimetype": "text/x-python",
   "name": "python",
   "nbconvert_exporter": "python",
   "pygments_lexer": "ipython3",
   "version": "3.9.1"
  }
 },
 "nbformat": 4,
 "nbformat_minor": 4
}
