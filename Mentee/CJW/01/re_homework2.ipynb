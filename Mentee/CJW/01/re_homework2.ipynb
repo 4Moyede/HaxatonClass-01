{
 "cells": [
  {
   "cell_type": "code",
   "execution_count": null,
   "metadata": {},
   "outputs": [
    {
     "name": "stdout",
     "output_type": "stream",
     "text": [
      "숫자를 입력해주세요 : 456\n",
      "654 15\n"
     ]
    }
   ],
   "source": [
    "def reverse(number):\n",
    "    return int(str(number)[::-1])\n",
    "\n",
    "\n",
    "def result_sum(number):\n",
    "    str_number = str(number)\n",
    "    add = 0\n",
    "    for i in range(len(str_number)):\n",
    "        add += int(str_number[i])\n",
    "    return add\n",
    "\n",
    "\n",
    "while True:\n",
    "    answer_input = int(input('숫자를 입력해주세요 : '))\n",
    "    reverse_number = reverse(answer_input)\n",
    "    sum_number = 0\n",
    "    if reverse_number == 0:\n",
    "        break\n",
    "    else:\n",
    "        sum_number = result_sum(answer_input)\n",
    "\n",
    "    print(reverse_number, sum_number)\n",
    "    \n",
    "    \n",
    "#sum이라는 파이썬 내장함수(?)가 존재하기때문에 함수명으로 sum을 썼을 경우, 문제는 없지만 색깔이 다른 거 같습니다! "
   ]
  }
 ],
 "metadata": {
  "kernelspec": {
   "display_name": "Python 3.7 : hexaton-1",
   "language": "python",
   "name": "hexaton-1"
  },
  "language_info": {
   "codemirror_mode": {
    "name": "ipython",
    "version": 3
   },
   "file_extension": ".py",
   "mimetype": "text/x-python",
   "name": "python",
   "nbconvert_exporter": "python",
   "pygments_lexer": "ipython3",
   "version": "3.9.1"
  }
 },
 "nbformat": 4,
 "nbformat_minor": 4
}
