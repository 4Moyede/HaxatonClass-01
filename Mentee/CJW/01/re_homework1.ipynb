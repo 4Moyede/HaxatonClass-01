{
 "cells": [
  {
   "cell_type": "code",
   "execution_count": 1,
   "metadata": {},
   "outputs": [
    {
     "name": "stdout",
     "output_type": "stream",
     "text": [
      "삼각형의 높이를 입력해주세요 : 5\n",
      "    A\n",
      "   BF\n",
      "  CGJ\n",
      " DHKM\n",
      "EILNO\n"
     ]
    }
   ],
   "source": [
    "asci_a = 65\n",
    "height = int(input('삼각형의 높이를 입력해주세요 : '))\n",
    "\n",
    "for i in range (1, height + 1) :\n",
    "    print(' ' * (height - i) , end = '')\n",
    "    i_1 = i\n",
    "    for j in range (0, i) :\n",
    "        i_1 = (i_1 + (height - j) % height)\n",
    "        print(chr(int(asci_a + (i_1 - 1 ) % 26)), end = '')\n",
    "    print()\n",
    "# 제가 이 코드로 돌려보았을때는 오류없이 띄어쓰기 되면서 출력이 되는데 뭐가 문제였을까요?\n",
    "    "
   ]
  }
 ],
 "metadata": {
  "kernelspec": {
   "display_name": "Python 3.7 : hexaton-1",
   "language": "python",
   "name": "hexaton-1"
  },
  "language_info": {
   "codemirror_mode": {
    "name": "ipython",
    "version": 3
   },
   "file_extension": ".py",
   "mimetype": "text/x-python",
   "name": "python",
   "nbconvert_exporter": "python",
   "pygments_lexer": "ipython3",
   "version": "3.9.1"
  }
 },
 "nbformat": 4,
 "nbformat_minor": 4
}
