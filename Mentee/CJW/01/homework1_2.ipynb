{
 "cells": [
  {
   "cell_type": "code",
   "execution_count": null,
   "metadata": {},
   "outputs": [],
   "source": [
    "def reverse(number):\n",
    "    return int(str(number)[::-1])\n",
    "\n",
    "\n",
    "def sum(number):\n",
    "    str_number = str(number)\n",
    "    add = 0\n",
    "    for i in range(len(str_number)):\n",
    "        add += int(str_number[i])\n",
    "    return add\n",
    "\n",
    "\n",
    "while True:\n",
    "    answer_input = int(input('숫자를 입력해주세요 : '))\n",
    "    reverse_number = reverse(answer_input)\n",
    "    sum_number = 0\n",
    "    if reverse_number == 0:\n",
    "        break\n",
    "    else:\n",
    "        sum_number = sum(answer_input)\n",
    "\n",
    "    print(reverse_number, sum_number)"
   ]
  }
 ],
 "metadata": {
  "kernelspec": {
   "display_name": "Python 3.7 : hexaton-1",
   "language": "python",
   "name": "hexaton-1"
  },
  "language_info": {
   "codemirror_mode": {
    "name": "ipython",
    "version": 3
   },
   "file_extension": ".py",
   "mimetype": "text/x-python",
   "name": "python",
   "nbconvert_exporter": "python",
   "pygments_lexer": "ipython3",
   "version": "3.9.1"
  }
 },
 "nbformat": 4,
 "nbformat_minor": 4
}
