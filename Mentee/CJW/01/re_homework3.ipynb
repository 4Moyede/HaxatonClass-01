{
 "cells": [
  {
   "cell_type": "code",
   "execution_count": 1,
   "metadata": {},
   "outputs": [
    {
     "name": "stdout",
     "output_type": "stream",
     "text": [
      "문장을 입력해주세요 : a a b\n",
      "< Sentence 0 >\n",
      "b : 1\n",
      "a : 2\n",
      "문장을 입력해주세요 : ab ab\n",
      "< Sentence 1 >\n",
      "ab : 2\n",
      "문장을 입력해주세요 : END\n",
      "< All Sentence >\n",
      "b : 1\n",
      "a : 2\n",
      "ab : 2\n"
     ]
    }
   ],
   "source": [
    "count = 0\n",
    "all_result = []\n",
    "all_word_count = {}\n",
    "\n",
    "while True:\n",
    "\n",
    "    paragraph = input('문장을 입력해주세요 : ')\n",
    "    word_list = paragraph.split()\n",
    "    word_count = {}\n",
    "\n",
    "    if paragraph == 'END':\n",
    "        print(\"< All Sentence >\")\n",
    "\n",
    "        for word1 in all_result:\n",
    "            all_word_count[word1] = all_word_count.get(word1, 0) + 1\n",
    "\n",
    "            all_word_count = dict(sorted(all_word_count.items(), key =lambda x: (x[1], x[0]), reverse = False))\n",
    "        for key1, value1 in all_word_count.items():\n",
    "            print(key1, \":\", value1, sep=' ')\n",
    "\n",
    "        break\n",
    "\n",
    "    else :\n",
    "        all_result.extend(word_list)\n",
    "\n",
    "        for word in word_list:\n",
    "            word_count[word] = word_count.get(word, 0) + 1\n",
    "\n",
    "            word_count = dict(sorted(word_count.items(), key =lambda x: (x[1], x[0]), reverse = False))\n",
    "\n",
    "        print(\"< Sentence %d >\" % count)\n",
    "        count = count + 1\n",
    "        for key, value  in word_count.items():\n",
    "\n",
    "            print(key, \":\", value, sep=' ')"
   ]
  }
 ],
 "metadata": {
  "kernelspec": {
   "display_name": "Python 3.7 : hexaton-1",
   "language": "python",
   "name": "hexaton-1"
  },
  "language_info": {
   "codemirror_mode": {
    "name": "ipython",
    "version": 3
   },
   "file_extension": ".py",
   "mimetype": "text/x-python",
   "name": "python",
   "nbconvert_exporter": "python",
   "pygments_lexer": "ipython3",
   "version": "3.9.1"
  }
 },
 "nbformat": 4,
 "nbformat_minor": 4
}
