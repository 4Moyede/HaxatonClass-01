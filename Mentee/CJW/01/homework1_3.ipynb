{
 "cells": [
  {
   "cell_type": "code",
   "execution_count": null,
   "metadata": {},
   "outputs": [],
   "source": [
    "while True:\n",
    "    paragraph = input('문장을 입력해주세요 : ')\n",
    "    word_list = paragraph.split()\n",
    "    word_count = {}\n",
    "    new_word_list = []\n",
    "\n",
    "    for word in word_list:\n",
    "        word_count[word] = word_count.get(word, 0) + 1\n",
    "\n",
    "    result = []\n",
    "    word_list_temp = set(word_list)\n",
    "    word_list_temp = list(word_list_temp)\n",
    "\n",
    "    for word in word_list_temp :\n",
    "        temp = [word, word_count.get(word)]\n",
    "        result.append(temp)\n",
    "    result = sorted(result, key = lambda x : (x[1], x[0]))\n",
    "\n",
    "    if paragraph == 'END':\n",
    "        break\n",
    "    else:\n",
    "        for i in range (len(result)):\n",
    "            print(str(result[i][0] + ' : ' + str(result[i][1])))\n",
    "\n"
   ]
  }
 ],
 "metadata": {
  "kernelspec": {
   "display_name": "Python 3.7 : hexaton-1",
   "language": "python",
   "name": "hexaton-1"
  },
  "language_info": {
   "codemirror_mode": {
    "name": "ipython",
    "version": 3
   },
   "file_extension": ".py",
   "mimetype": "text/x-python",
   "name": "python",
   "nbconvert_exporter": "python",
   "pygments_lexer": "ipython3",
   "version": "3.9.1"
  }
 },
 "nbformat": 4,
 "nbformat_minor": 4
}
