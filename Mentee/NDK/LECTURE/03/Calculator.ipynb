{
 "cells": [
  {
   "cell_type": "code",
   "execution_count": 2,
   "metadata": {},
   "outputs": [
    {
     "name": "stdout",
     "output_type": "stream",
     "text": [
      "숫자를 입력하시오3\n",
      "원하는 사칙연산을 입력하시오(예 : + ) : -\n",
      "숫자를 입력하시오2\n",
      "등호를 입력하시면 결과가 산출됩니다.=\n",
      "1\n"
     ]
    }
   ],
   "source": [
    "class calculate:\n",
    "    def __init__(self,num):\n",
    "        self.result = num\n",
    "\n",
    "    def plus(self, num):\n",
    "        self.result += num\n",
    "        return self.result\n",
    "\n",
    "    def minus(self, num):\n",
    "        self.result -= num\n",
    "        return self.result\n",
    "\n",
    "    def multi(self, num):\n",
    "        self.result = self.result * num\n",
    "        return self.result\n",
    "\n",
    "    def divide(self, num):\n",
    "        if num == 0:\n",
    "            print('0으로 나눌 수 없습니다.')\n",
    "        else:\n",
    "            self.result = self.result / num\n",
    "            return self.result\n",
    "\n",
    "num_two = int(input('숫자를 입력하시오'))\n",
    "\n",
    "\n",
    "c = calculate(num_two)\n",
    "while True:\n",
    "    operation = input('원하는 사칙연산을 입력하시오(예 : + ) : ')\n",
    "    num_one = int(input('숫자를 입력하시오'))\n",
    "    ending = input('등호를 입력하시면 결과가 산출됩니다.')\n",
    "    if ending == '=':\n",
    "        if operation == '+':\n",
    "            c.plus(num_one)\n",
    "            print(c.result)\n",
    "        elif operation == '-':\n",
    "            c.minus(num_one)\n",
    "            print(c.result)\n",
    "\n",
    "        elif operation == '*':\n",
    "            c.multi(num_one)\n",
    "            print(c.result)\n",
    "\n",
    "        elif operation == '/':\n",
    "            c.divide(num_one)\n",
    "            print(c.result)\n",
    "\n",
    "        else:\n",
    "            operation = input('사칙연산만 입력해주십시오 : ')\n"
   ]
  }
 ],
 "metadata": {
  "kernelspec": {
   "display_name": "Python 3",
   "language": "python",
   "name": "python3"
  },
  "language_info": {
   "codemirror_mode": {
    "name": "ipython",
    "version": 3
   },
   "file_extension": ".py",
   "mimetype": "text/x-python",
   "name": "python",
   "nbconvert_exporter": "python",
   "pygments_lexer": "ipython3",
   "version": "3.8.5"
  }
 },
 "nbformat": 4,
 "nbformat_minor": 4
}
