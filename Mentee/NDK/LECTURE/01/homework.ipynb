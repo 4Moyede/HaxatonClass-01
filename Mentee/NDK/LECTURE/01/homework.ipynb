{
 "cells": [
  {
   "cell_type": "code",
   "execution_count": 2,
   "metadata": {
    "scrolled": true
   },
   "outputs": [
    {
     "name": "stdout",
     "output_type": "stream",
     "text": [
      "숫자를 입력하시오 :5\n",
      "        A \n",
      "      B C \n",
      "    D E F \n",
      "  G H I J \n",
      "K L M N O \n"
     ]
    }
   ],
   "source": [
    "numbers = int(input(\"숫자를 입력하시오 :\"))\n",
    "if numbers > 100 or numbers < 1:\n",
    "    numbers = int(input(\"100이하의 양의 정수를 입력하시오 :\"))\n",
    "d = 64\n",
    "for a in range(numbers):\n",
    "    for b in range(numbers - a - 1):\n",
    "        print('  ', end='')\n",
    "    for c in range(a + 1):\n",
    "        d += 1\n",
    "        if d > 90:\n",
    "            d = d - 26\n",
    "        print(chr(d), end=' ')\n",
    "    print('')\n"
   ]
  },
  {
   "cell_type": "code",
   "execution_count": 5,
   "metadata": {},
   "outputs": [
    {
     "name": "stdout",
     "output_type": "stream",
     "text": [
      "숫자를 입력하세요1234\n",
      "4321  10\n"
     ]
    }
   ],
   "source": [
    "def reverse(num):\n",
    "    int(str(num)[::-1])\n",
    "    return int(str(num)[::-1])\n",
    "def sum(num):\n",
    "    new = str(num)\n",
    "    add = 0\n",
    "    for i in range(len(new)):\n",
    "        add += int(new[i])\n",
    "    return add\n",
    "\n",
    "def function(num):\n",
    "    print(reverse(num),'',sum(num))\n",
    "\n",
    "num = int(input('숫자를 입력하세요'))\n",
    "if num > 2100000000 or num < 0:\n",
    "    num = int(input('숫자를 입력하세요'))\n",
    "else:\n",
    "    function(num)\n",
    "    \n"
   ]
  },
  {
   "cell_type": "code",
   "execution_count": 7,
   "metadata": {},
   "outputs": [],
   "source": [
    "import re\n",
    "Sen = input('문장을 입력하시오 :')\n",
    "Sen_list = re.findall(r'\\w+', Sen)\n",
    "from collections import Counter\n",
    "Sen_index = [Sen]\n",
    "while True:\n",
    "    N = input('>>>')\n",
    "    Sen_index.append(N)\n",
    "    if 'END' in Sen_index:\n",
    "        Sen_index.pop()\n",
    "        break\n",
    "    else: continue\n",
    "print(Sen_index)\n",
    "print(\"========계산 결과 입니다.==========\")\n",
    "i= 0\n",
    "j = 0\n",
    "for i in range(len(N)):\n",
    "    print(\"[sentence \"+str(i+1)+\"]\")\n",
    "    trace = Sen_index[i].split(\" \")\n",
    "    for j in range(len(trace)):\n",
    "        print(trace[j]+\" : \",end='')\n",
    "        cnt = Counter(trace)\n",
    "        print(cnt[trace[j]],end='\\n')\n",
    "        j += 1\n",
    "    i += 1\n",
    "    "
   ]
  },
  {
   "cell_type": "code",
   "execution_count": null,
   "metadata": {},
   "outputs": [],
   "source": []
  }
 ],
 "metadata": {
  "kernelspec": {
   "display_name": "Python 3",
   "language": "python",
   "name": "python3"
  },
  "language_info": {
   "codemirror_mode": {
    "name": "ipython",
    "version": 3
   },
   "file_extension": ".py",
   "mimetype": "text/x-python",
   "name": "python",
   "nbconvert_exporter": "python",
   "pygments_lexer": "ipython3",
   "version": "3.8.5"
  }
 },
 "nbformat": 4,
 "nbformat_minor": 4
}
