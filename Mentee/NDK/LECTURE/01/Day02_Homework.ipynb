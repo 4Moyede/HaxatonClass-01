{
 "cells": [
  {
   "cell_type": "code",
   "execution_count": null,
   "metadata": {},
   "outputs": [],
   "source": [
    "\n",
    "rows = int(input('숫자를 입력하세요:'))\n",
    "a_num = 26\n",
    "if rows > 100 or rows < 1:\n",
    "    rows = int(input('숫자를 입력하세요:'))\n",
    "\n",
    "for nums in range(rows):\n",
    "    for blank in range(rows - nums - 1):\n",
    "        print(' ', end='')\n",
    "    for character in range(nums + 1):\n",
    "        print(chr(a_num + nums + 4 * (nums -1) + 3 * (nums - 2) + 2 * (nums - 3) + (nums - 4)), end = '')\n",
    "    print('')\n",
    "\n"
   ]
  },
  {
   "cell_type": "code",
   "execution_count": null,
   "metadata": {},
   "outputs": [],
   "source": [
    "#문제 2\n",
    "def reverse(num):\n",
    "    int(str(num)[::-1])\n",
    "    return int(str(num)[::-1])\n",
    "# 숫자배열을 뒤집는 함수를 reverse로 정의\n",
    "def num_sum(num):\n",
    "    new = str(num)\n",
    "    add = 0\n",
    "    for i in range(len(new)):\n",
    "        add += int(new[i])\n",
    "    return add\n",
    "# 각 자리 숫자의 합을 구하는 함수를 num_sum으로 정의, 내장함수인 sum으로 함수를 정의하면 안됨!\n",
    "def result(num):\n",
    "    print(reverse(num),'',num_sum(num))\n",
    "# 함수를 정의 할 때 function 같은 이름으로 정의하면 노래를 할 수 있다...\n",
    "    \n",
    "input_num = 0\n",
    "while input_num<10:\n",
    "# 입력 횟수를 10번으로 제한하기 위해 while 반복문을 사용\n",
    "    num = int(input('숫자를 입력하세요'))\n",
    "\n",
    "    if num > 2100000000 or num < 0:\n",
    "        num = int(input('숫자를 입력하세요'))\n",
    "    elif num == 0:\n",
    "        break\n",
    "    else:\n",
    "        result(num)\n",
    "        input_num += 1\n"
   ]
  },
  {
   "cell_type": "code",
   "execution_count": null,
   "metadata": {},
   "outputs": [],
   "source": [
    "import re\n",
    "text = ''\n",
    "def sentence_clear(text):\n",
    "     pattern = '[^\\w\\s]'\n",
    "     text = re.sub(pattern=pattern, repl='', string=text)\n",
    "     return text\n",
    "\n",
    "# 특수문자가 포함되면 Word. 와 Word는 다른 문자처럼 인식되기 때문에 입력과정에서 제거\n",
    "# 대소문자도 다르게 인식하기 때문에 upper 메소드를 이용하여 모두 대문자화 시킴\n",
    "total_word_list = []\n",
    "total_sentence_dict = {}\n",
    "sentence_cnt = 0\n",
    "\n",
    "# all sentence를 출력하기 위해, 입력받은 문장들을 저장할 list를 지정\n",
    "time = 0\n",
    "while time < 31:\n",
    "# 횟수는 30번까지만 입력받게끔 다음과 같은 while문을 씀\n",
    "    sentence = input('문장을 입력하세요, END를 입력하면 종료됩니다.')\n",
    "    sentence = sentence_clear(sentence)\n",
    "    sentence_dict = {}\n",
    "    if sentence == 'END':\n",
    "        break\n",
    "    elif len(sentence) > 200:\n",
    "        Print('200자 이하의 문장를 입력하세요')\n",
    "        continue\n",
    "    else:\n",
    "        word_list = sentence.split()\n",
    "        total_word_list.extend(word_list)\n",
    "\n",
    "        for word in word_list:\n",
    "            sentence_dict[word] = sentence_dict.get(word,0)+1\n",
    "        print(sentence_dict)\n",
    "        time += 1\n",
    "\n",
    "    for total_word in total_word_list:\n",
    "        total_sentence_dict[total_word] = total_sentence_dict.get(total_word,0)+1\n",
    "print(total_sentence_dict)\n",
    "    \n",
    "    "
   ]
  },
  {
   "cell_type": "code",
   "execution_count": null,
   "metadata": {},
   "outputs": [],
   "source": []
  }
 ],
 "metadata": {
  "kernelspec": {
   "display_name": "Python 3",
   "language": "python",
   "name": "python3"
  },
  "language_info": {
   "codemirror_mode": {
    "name": "ipython",
    "version": 3
   },
   "file_extension": ".py",
   "mimetype": "text/x-python",
   "name": "python",
   "nbconvert_exporter": "python",
   "pygments_lexer": "ipython3",
   "version": "3.8.5"
  }
 },
 "nbformat": 4,
 "nbformat_minor": 4
}
