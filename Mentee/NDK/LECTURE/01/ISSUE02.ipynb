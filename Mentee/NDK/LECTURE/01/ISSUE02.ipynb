{
 "cells": [
  {
   "cell_type": "markdown",
   "metadata": {},
   "source": [
    "## 지난 ISSUE REVIEW\n",
    "\n",
    "### FIRST. [GITHUB] PUSH시 나타나는 403 ERROR\n",
    "#### -> 403 ERROR는 네트워크 상에서  '권한'으로 인한 거절로 발생되는 오류입니다. 즉, 우리가 Push라는 요청을 했을 때, 그 권한의 부재로 인해 거절되어 발생합니다. \n",
    "#### -> 이는 권한을 제대로 부여받았는지로 부터 해결책을 찾아나가야 합니다. 이번 issue에서 발생한 사례들을 살펴보면\n",
    "\n",
    "   #### example : 기존에 사용하던 아이디로 Collaborator가 초대링크를 보내었고, 정작 GITHub를 사용하려는 계정은 초대링크를 받은 계정이 아니었음.\n",
    "   \n",
    "   #### -> 즉 초대링크를 통한 '권한부여'를 받은 계정과 실 사용 계정이 달랐기 때문에, 실 사용계정은 권한이 부여되지 않아 404 error가 발생했다고 볼수 있습니다.\n",
    "\n",
    "### SECOND. [GITHUB] \"SORRY SOMETHING WENT WRONG. RELOAD?' ERROR\n",
    "#### -> GitHub에 탑재된 Jupyter Notebook or pdf file 파일이 열리지 않을 경우 생기는 오류입니다.\n",
    "#### -> 통상적으로 새로고침(F5)을 통해 해결이 되지만, 안될경우.\n",
    "     ->소스 Code를 다운로드 받아, 직접 열거나, 저장소(ex)https://colab.research.google.com/github/4Moyede/HexatonClass-01)에 직접 접속  하여 '수동'으로 탑재된 파일을 열람하면 되겠습니다.\n",
    "     \n",
    "### THIRD. [GITHUB] About Git Application\n",
    "#### -> Git : git은 지역 저장소를 만들고 파일, 코드 등을 관리하는 작업이라고 볼 수 있습니다.\n",
    "#### -> Github : github는 내가 로컬에서 git으로 관리하는 자료를 다른 사람과 공유하거나 백업해둘 수 있는 웹사이트입니다.\n",
    "#### 이를 다루는 Application에는 많은 종류들이 있고 개발자들의 선호차이로 다양한 어플리케이션이 채택되어 사용중입니다. 우리가 사용하는 Git Bash가 대표적인 Application이며, 이외에도 Github Desktop, Git GUI등이 있습니다."
   ]
  }
 ],
 "metadata": {
  "kernelspec": {
   "display_name": "Python 3",
   "language": "python",
   "name": "python3"
  },
  "language_info": {
   "codemirror_mode": {
    "name": "ipython",
    "version": 3
   },
   "file_extension": ".py",
   "mimetype": "text/x-python",
   "name": "python",
   "nbconvert_exporter": "python",
   "pygments_lexer": "ipython3",
   "version": "3.8.5"
  }
 },
 "nbformat": 4,
 "nbformat_minor": 4
}
