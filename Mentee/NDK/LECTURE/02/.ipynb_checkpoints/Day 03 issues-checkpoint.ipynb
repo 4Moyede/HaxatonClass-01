{
 "cells": [
  {
   "cell_type": "markdown",
   "metadata": {},
   "source": [
    "# 2주차 ISSUE"
   ]
  },
  {
   "cell_type": "markdown",
   "metadata": {},
   "source": [
    "### 1. [PYTHON] 리스트 슬라이싱\n",
    "\n",
    "  CONTENT : Dataframe의 원하는 column만을 불러올 때 칼럼을 일일히 불러오지 않고 다음과 같은 방식으로 구문을 작성하였더니 오류가 발생한 이슈이다.\n",
    "    \n",
    "    airbnb_remake = airbnb_db.loc[:, ['room_type','neighborhood':'minstay']]\n",
    "    airbnb_remake\n",
    "    \n",
    " 첫번째 오류의 원인을 파악해보면, 혹시 콤마(,)와 콜론을 혼용하여 사용했기 때문에 발생한 것이 아닐까 생각해보았고\n",
    "  ['room_type','neighborhood':'minstay'] 이 부분에서 불러올 수 없다는 것이 확인되었음, 확인을 위해 column에 번호를 부여하여 추출하는 함수인 iloc을 사용하여 확인해보았을때, 원하는 컬럼의 번호를 모두 써주어서 불러올 수는 있었으나, 원래 의도한대로 2번, 4~10번을 불러올 수는 없었다.\n",
    "  \n",
    "             a = [1,2,3,4,5]\n",
    "             a[3:4],a[1]\n",
    "  \n",
    "처럼 의도한 것과 비슷한 방식으로 리스트에서 불러오기를 실행하였는데, 결과가 ([4],2)로 나왔다. 이는 각각 리스트와 정수형으로 슬라이싱했을 때 상이한 type의 결과가 나왔다. 그렇기 때문에 위에 issue에서 오류가 발생한 것이다.\n",
    "\n",
    "이를 의도대로 해결하기 위해서는, 아예 type을 모두 리스트로 변환하고, 대입하는 방법을 채택해 볼 수 있는데 코드는 다음과 같다. \n",
    "\n",
    "     column_extract = [2] + list(range(4,11))\n",
    "     airbnb_remake = airbnb_db.iloc[:, column_extract]\n",
    " \n",
    " \n",
    " "
   ]
  },
  {
   "cell_type": "markdown",
   "metadata": {},
   "source": [
    "### 2. [Github] Pull Request 버튼이 보이지 않음.\n",
    "\n",
    "CONTENT : Push를 하고 pull request를 하려고 하니 pull request가 활성화 되지 않는다.\n",
    "\n",
    "\n",
    "closed되지 않은 pull request가 있어서 발생한 것으로 추측하여 기존의 pull request를 closed하고 다시 push를 시도하였음 그러나 Everything up-tp-date라는 문구가 떠버림. 보니까 main에서 pull request를 받지 않아. pull request를 보낼때 저번 commit까지 다 떠버린 것...!\n"
   ]
  },
  {
   "cell_type": "markdown",
   "metadata": {},
   "source": [
    "### 3. import 구문을 하단에 쓰면 안되는 이유?\n",
    "\n",
    "Content : 히스토그램을 그릴때, matplotlib 라이브러리의 pyplot 모듈을 사용한다. 그를 위해 import 구문을 사용하여야 하는데, 이 구문을 맨 위에 써야한다..!\n",
    "\n",
    "-> 이는 python이 권장하는 스타일이기 때문이다. 구문을 굳이 최상단에 쓰지 않아도 오류가 발생하지는 않았다. 다만 import 구문을 맨 앞에 두면 다른 사람이 코드를 읽을 때 구문 아래 어떤 정보들이 나올 지 예측하기 쉬워지기 때문인 것 같다. "
   ]
  }
 ],
 "metadata": {
  "kernelspec": {
   "display_name": "Python 3",
   "language": "python",
   "name": "python3"
  },
  "language_info": {
   "codemirror_mode": {
    "name": "ipython",
    "version": 3
   },
   "file_extension": ".py",
   "mimetype": "text/x-python",
   "name": "python",
   "nbconvert_exporter": "python",
   "pygments_lexer": "ipython3",
   "version": "3.8.5"
  }
 },
 "nbformat": 4,
 "nbformat_minor": 4
}
